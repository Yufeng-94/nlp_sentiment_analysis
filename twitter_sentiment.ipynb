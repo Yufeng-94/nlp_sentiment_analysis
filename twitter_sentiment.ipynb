{
 "cells": [
  {
   "cell_type": "markdown",
   "metadata": {},
   "source": [
    "## 1. Import Libraries"
   ]
  },
  {
   "cell_type": "code",
   "execution_count": 1,
   "metadata": {},
   "outputs": [
    {
     "name": "stdout",
     "output_type": "stream",
     "text": [
      "Requirement already satisfied: twitter-text-python in e:\\anaconda\\lib\\site-packages (1.1.1)\n",
      "Note: you may need to restart the kernel to use updated packages.\n"
     ]
    }
   ],
   "source": [
    "pip install twitter-text-python"
   ]
  },
  {
   "cell_type": "code",
   "execution_count": 2,
   "metadata": {
    "scrolled": true
   },
   "outputs": [
    {
     "name": "stdout",
     "output_type": "stream",
     "text": [
      "Requirement already satisfied: wordcloud in e:\\anaconda\\lib\\site-packages (1.6.0)\n",
      "Requirement already satisfied: numpy>=1.6.1 in e:\\anaconda\\lib\\site-packages (from wordcloud) (1.16.4)\n",
      "Requirement already satisfied: matplotlib in e:\\anaconda\\lib\\site-packages (from wordcloud) (3.1.0)\n",
      "Requirement already satisfied: pillow in e:\\anaconda\\lib\\site-packages (from wordcloud) (6.1.0)\n",
      "Requirement already satisfied: cycler>=0.10 in e:\\anaconda\\lib\\site-packages (from matplotlib->wordcloud) (0.10.0)\n",
      "Requirement already satisfied: kiwisolver>=1.0.1 in e:\\anaconda\\lib\\site-packages (from matplotlib->wordcloud) (1.1.0)\n",
      "Requirement already satisfied: pyparsing!=2.0.4,!=2.1.2,!=2.1.6,>=2.0.1 in e:\\anaconda\\lib\\site-packages (from matplotlib->wordcloud) (2.4.0)\n",
      "Requirement already satisfied: python-dateutil>=2.1 in e:\\anaconda\\lib\\site-packages (from matplotlib->wordcloud) (2.8.0)\n",
      "Requirement already satisfied: six in e:\\anaconda\\lib\\site-packages (from cycler>=0.10->matplotlib->wordcloud) (1.12.0)\n",
      "Requirement already satisfied: setuptools in e:\\anaconda\\lib\\site-packages (from kiwisolver>=1.0.1->matplotlib->wordcloud) (41.0.1)\n",
      "Note: you may need to restart the kernel to use updated packages.\n"
     ]
    }
   ],
   "source": [
    "pip install wordcloud"
   ]
  },
  {
   "cell_type": "code",
   "execution_count": 3,
   "metadata": {},
   "outputs": [
    {
     "name": "stdout",
     "output_type": "stream",
     "text": [
      "Requirement already satisfied: xgboost in e:\\anaconda\\lib\\site-packages (1.0.2)\n",
      "Requirement already satisfied: numpy in e:\\anaconda\\lib\\site-packages (from xgboost) (1.16.4)\n",
      "Requirement already satisfied: scipy in e:\\anaconda\\lib\\site-packages (from xgboost) (1.2.1)\n"
     ]
    }
   ],
   "source": [
    "import sys\n",
    "!{sys.executable} -m pip install xgboost"
   ]
  },
  {
   "cell_type": "code",
   "execution_count": 4,
   "metadata": {},
   "outputs": [
    {
     "name": "stderr",
     "output_type": "stream",
     "text": [
      "[nltk_data] Downloading package punkt to\n",
      "[nltk_data]     C:\\Users\\Yufeng\\AppData\\Roaming\\nltk_data...\n",
      "[nltk_data]   Package punkt is already up-to-date!\n",
      "[nltk_data] Downloading package words to\n",
      "[nltk_data]     C:\\Users\\Yufeng\\AppData\\Roaming\\nltk_data...\n",
      "[nltk_data]   Package words is already up-to-date!\n",
      "[nltk_data] Downloading package stopwords to\n",
      "[nltk_data]     C:\\Users\\Yufeng\\AppData\\Roaming\\nltk_data...\n",
      "[nltk_data]   Package stopwords is already up-to-date!\n"
     ]
    }
   ],
   "source": [
    "import pandas as pd\n",
    "import numpy as np\n",
    "import re\n",
    "import nltk\n",
    "nltk.download('punkt')\n",
    "nltk.download('words')\n",
    "nltk.download('stopwords')\n",
    "from nltk.tokenize import word_tokenize\n",
    "from nltk.tokenize import RegexpTokenizer\n",
    "from string import punctuation\n",
    "from nltk.corpus import stopwords\n",
    "from nltk.corpus import words"
   ]
  },
  {
   "cell_type": "code",
   "execution_count": 5,
   "metadata": {},
   "outputs": [],
   "source": [
    "from html import unescape\n",
    "from nltk.stem import PorterStemmer\n",
    "from ttp import ttp"
   ]
  },
  {
   "cell_type": "code",
   "execution_count": 6,
   "metadata": {},
   "outputs": [],
   "source": [
    "import matplotlib.pyplot as plt\n",
    "import seaborn as sns"
   ]
  },
  {
   "cell_type": "code",
   "execution_count": 7,
   "metadata": {},
   "outputs": [],
   "source": [
    "from sklearn.feature_extraction.text import CountVectorizer\n",
    "from sklearn.feature_extraction.text import TfidfVectorizer"
   ]
  },
  {
   "cell_type": "code",
   "execution_count": 8,
   "metadata": {},
   "outputs": [],
   "source": [
    "from sklearn.model_selection import GridSearchCV\n",
    "from sklearn.metrics import roc_auc_score\n",
    "from sklearn.linear_model import LogisticRegression\n",
    "from sklearn.neighbors import KNeighborsClassifier\n",
    "from sklearn.naive_bayes import MultinomialNB\n",
    "from sklearn.svm import SVC\n",
    "from sklearn.tree import DecisionTreeClassifier\n",
    "from sklearn.ensemble import RandomForestClassifier\n",
    "import xgboost as xgb\n",
    "from sklearn.model_selection import train_test_split\n",
    "from sklearn.preprocessing import StandardScaler\n",
    "from sklearn.metrics import make_scorer\n",
    "from sklearn.metrics import balanced_accuracy_score\n",
    "from sklearn.preprocessing import LabelEncoder\n",
    "from sklearn.linear_model import SGDClassifier"
   ]
  },
  {
   "cell_type": "markdown",
   "metadata": {},
   "source": [
    "## 2. Data Cleaning"
   ]
  },
  {
   "cell_type": "code",
   "execution_count": 9,
   "metadata": {},
   "outputs": [],
   "source": [
    "# import data (shuold be changed on the cloud)\n",
    "stmt = pd.read_csv('D:\\\\MIE1624\\\\Assignment_2\\\\Sentiment.csv')\n",
    "c_elect = pd.read_csv('D:\\\\MIE1624\\\\Assignment_2\\\\Canadian_elections_2019.csv')"
   ]
  },
  {
   "cell_type": "markdown",
   "metadata": {},
   "source": [
    "- I found there are lots of single letters like 'b' and 'n' in the initial process. 'b' is at the beginning of each tweet, and 'n' is remained parts of strings like '\\\\n'. And 'X' is the remain part of Emoji. I added them in to stopwords. Delete several single letters in each tweet has no effects on the analysis. \n",
    "\n",
    "- For html characters, I think it is better to unescape them than convert them to ASCII number, because that would be confused with other numbers, and otherwise html characters seem not affect the sentiment analysis, and they will be removed eventually."
   ]
  },
  {
   "cell_type": "code",
   "execution_count": 10,
   "metadata": {},
   "outputs": [],
   "source": [
    "# define stopwords list\n",
    "stopword_list = stopwords.words('english') +list(punctuation) +['b', 'n', 'X', 'x']\n",
    "\n",
    "# funtion for data cleaning\n",
    "def data_cleaning(row, stopword_list):\n",
    "\n",
    "    row = row.lower()\n",
    "    row = re.sub('((www\\.[^\\s]+)|(https?://[^\\s]+))', r'', row) # uniform URL\n",
    "    row = re.sub('@[^\\s]+', r'', row) # remove username\n",
    "    row = unescape(row)\n",
    "    tokenizer = RegexpTokenizer(r'\\w+')\n",
    "    row = tokenizer.tokenize(row)\n",
    "    row = [word for word in row if re.match(r'[A-Za-z]+', word)]\n",
    "    row = [word for word in row if word not in stopword_list]\n",
    "    #pstm = PorterStemmer()\n",
    "    #row = [pstm.stem(word) for word in row] # stem the tweet\n",
    "    return row "
   ]
  },
  {
   "cell_type": "markdown",
   "metadata": {},
   "source": [
    "- Clean the Canadian Election Data (will be called _election data_ in the following)."
   ]
  },
  {
   "cell_type": "code",
   "execution_count": 11,
   "metadata": {},
   "outputs": [],
   "source": [
    "c_elect_cleaned = c_elect.copy()\n",
    "c_elect_cleaned['text'] = c_elect['text'].apply(data_cleaning, args=(stopword_list,))"
   ]
  },
  {
   "cell_type": "markdown",
   "metadata": {},
   "source": [
    "- Clean _sentiment.csv_ data. There are some texts that are nan value. Thus, they should be replaced by 'notext' for further processing according to the assignment requirement."
   ]
  },
  {
   "cell_type": "code",
   "execution_count": 12,
   "metadata": {},
   "outputs": [],
   "source": [
    "stmt_cleaned = stmt.copy()"
   ]
  },
  {
   "cell_type": "code",
   "execution_count": 13,
   "metadata": {},
   "outputs": [],
   "source": [
    "# keep empty tweets\n",
    "for twt in stmt_cleaned['text']:\n",
    "    if isinstance(twt, float):\n",
    "        stmt_cleaned = stmt_cleaned.replace(twt, 'notext')"
   ]
  },
  {
   "cell_type": "code",
   "execution_count": 14,
   "metadata": {},
   "outputs": [],
   "source": [
    "stmt_cleaned['text'] = stmt_cleaned['text'].apply(data_cleaning, args=(stopword_list,))"
   ]
  },
  {
   "cell_type": "markdown",
   "metadata": {},
   "source": [
    "## 3. Exploratory Analysis"
   ]
  },
  {
   "cell_type": "markdown",
   "metadata": {},
   "source": [
    "### 3.1 Party determination"
   ]
  },
  {
   "cell_type": "markdown",
   "metadata": {},
   "source": [
    "- The simple method for party determination mainly considers the _hashtags_ and _key words_ in the cleaned data. \n",
    "\n",
    "- The following part is the collection the set of hashtags"
   ]
  },
  {
   "cell_type": "code",
   "execution_count": 15,
   "metadata": {},
   "outputs": [],
   "source": [
    "# use tweeter API to recognize hashtags\n",
    "p = ttp.Parser()"
   ]
  },
  {
   "cell_type": "code",
   "execution_count": 16,
   "metadata": {},
   "outputs": [],
   "source": [
    "tags = []\n",
    "for tweet in c_elect['text']:\n",
    "    results = p.parse(tweet)\n",
    "    tags = tags+results.tags\n",
    "tags = pd.DataFrame(tags)\n",
    "tags.columns = ['tags']\n",
    "tags = pd.DataFrame(tags['tags'].value_counts())"
   ]
  },
  {
   "cell_type": "markdown",
   "metadata": {},
   "source": [
    "- Process hashtags:\n",
    "\n",
    "    - Drop all hastags that appear less than twice. Because if the tag appear less than twice, then at most 2 tweets use that tag, thus analyze that tag is equivalent to analyze only one or two tweets, which will be too specific to be a deterministic procedure.\n",
    "\n",
    "    - Drop hastags that are not politically biased, like 'elxn43' that related to all election issues."
   ]
  },
  {
   "cell_type": "code",
   "execution_count": 17,
   "metadata": {},
   "outputs": [],
   "source": [
    "tags = tags[tags['tags']>2]"
   ]
  },
  {
   "cell_type": "code",
   "execution_count": 18,
   "metadata": {},
   "outputs": [],
   "source": [
    "# drop tags that contain upper and lower case of elxn43\n",
    "tags = tags[~tags.index.str.match(r'([Ee][Ll])|43')]\n",
    "# drop tags that contain upper or lower case of cdn\n",
    "tags = tags[~tags.index.str.match(r'[cC][Dd][nN]')]\n",
    "# drop tags that contain poli\n",
    "tags = tags[~tags.index.str.match(r'^\\S+[Pp][Po][Ll]i$')]\n",
    "# drop tags that contain can\n",
    "tags = tags[~tags.index.str.match(r'[Cc]an\\S+')]\n",
    "\n",
    "tags = tags[~tags.index.str.match(r'[Cc]limate')]"
   ]
  },
  {
   "cell_type": "markdown",
   "metadata": {},
   "source": [
    "- The polical bias of the hashtags are selected manually from the remain hashtags. Some of the hashtags are combinations of the hashtags below, like '#JustinTrudeau'. Then use the elements below can recognize these combined tags."
   ]
  },
  {
   "cell_type": "code",
   "execution_count": 19,
   "metadata": {},
   "outputs": [],
   "source": [
    "# hashtags or keywords list for every political party\n",
    "liberal = ['forward', 'trudeau', 'liberal','lpc', 'andrew','lavalin', 'justin','josephine', 'tsang']\n",
    "conservative = ['kinsella','gate', 'conservative', 'scheer','cpc','andy']\n",
    "ndp = ['uprisingh', 'jagmeet', 'singh', 'ndp','vangran', 'democratic']\n",
    "others = ['ppc','greenparty']"
   ]
  },
  {
   "cell_type": "code",
   "execution_count": 20,
   "metadata": {
    "scrolled": false
   },
   "outputs": [],
   "source": [
    "type_list = []\n",
    "\n",
    "for twt in c_elect_cleaned['text']:\n",
    "    no_lib = 0\n",
    "    no_con = 0\n",
    "    no_ndp = 0\n",
    "    no_others = 0\n",
    "    \n",
    "    for word in twt:\n",
    "        if any(word in s for s in liberal):\n",
    "            no_lib += 1\n",
    "        elif any(word in s for s in conservative):\n",
    "            no_con += 1\n",
    "        elif any(word in s for s in ndp):\n",
    "            no_ndp += 1\n",
    "        elif any(word in s for s in others):\n",
    "            no_others += 1\n",
    "        else:\n",
    "            pass\n",
    "    if max(no_lib, no_con, no_ndp, no_others):\n",
    "        no_dict = {'Liberal':no_lib, 'Conservative':no_con, 'NDP': no_ndp, 'Others':no_others}\n",
    "        twt_type = max(no_dict, key=no_dict.get)\n",
    "    else:\n",
    "        twt_type='None'\n",
    "        \n",
    "    type_list.append(twt_type)"
   ]
  },
  {
   "cell_type": "code",
   "execution_count": 131,
   "metadata": {
    "scrolled": true
   },
   "outputs": [
    {
     "data": {
      "image/png": "[encoded data removed]",
      "text/plain": [
       "<Figure size 432x288 with 1 Axes>"
      ]
     },
     "metadata": {
      "needs_background": "light"
     },
     "output_type": "display_data"
    }
   ],
   "source": [
    "party_dist = np.array([party for party in type_list if party != 'None'])\n",
    "sns.countplot(party_dist, order=['Liberal', 'Conservative', 'NDP', 'Others'])\n",
    "plt.xlabel('Political Parties')\n",
    "plt.title('Distribution of estimated parties')\n",
    "plt.show()"
   ]
  },
  {
   "cell_type": "markdown",
   "metadata": {},
   "source": [
    "- In addition to the assignment requirements, I add 'Others' to represent other parties, like PPC or Green Party.\n",
    "- As we know Liberal and Conservative are parties that supported by high populations, and Liberal won the election. So this distribution is reasonable from this perspective.\n",
    "- About Half of the data samples are labeled by parties, the other half are labeled by none since no key words found it that tweet. The figure only shows the labeled samples."
   ]
  },
  {
   "cell_type": "markdown",
   "metadata": {},
   "source": [
    "### 3.2 Tweets Visualization"
   ]
  },
  {
   "cell_type": "markdown",
   "metadata": {},
   "source": [
    "- Plot the distribution of the length of the tweets in each datasets, also consider the labels."
   ]
  },
  {
   "cell_type": "code",
   "execution_count": 134,
   "metadata": {},
   "outputs": [
    {
     "data": {
      "image/png": "[encoded data removed]",
      "text/plain": [
       "<Figure size 1080x360 with 1 Axes>"
      ]
     },
     "metadata": {
      "needs_background": "light"
     },
     "output_type": "display_data"
    }
   ],
   "source": [
    "# for election dataset\n",
    "# the length of each tweet\n",
    "length_ele = [len(twt) for twt in c_elect_cleaned['text']]\n",
    "\n",
    "plt.subplots(figsize=(15,5))\n",
    "sns.countplot(length_ele, hue=c_elect_cleaned['sentiment'])\n",
    "plt.xlabel('Number of words')\n",
    "plt.title('Canada Election Data')\n",
    "plt.show()"
   ]
  },
  {
   "cell_type": "code",
   "execution_count": 135,
   "metadata": {},
   "outputs": [
    {
     "data": {
      "image/png": "[encoded data removed]",
      "text/plain": [
       "<Figure size 1080x360 with 1 Axes>"
      ]
     },
     "metadata": {
      "needs_background": "light"
     },
     "output_type": "display_data"
    }
   ],
   "source": [
    "# for sentiment dataset\n",
    "\n",
    "length_sen = [len(twt) for twt in stmt_cleaned['text']]\n",
    "\n",
    "plt.subplots(figsize=(15,5))\n",
    "sns.countplot(length_sen, hue=stmt_cleaned['sentiment'])\n",
    "plt.xlabel('Number of words')\n",
    "plt.title('Sentiment Data')\n",
    "plt.show()"
   ]
  },
  {
   "cell_type": "markdown",
   "metadata": {},
   "source": [
    "- __Analysis:__\n",
    "    1. For the overall trends of both datasets: \n",
    "        - The positive samples and the nagative samples are relatively balanced. This is suitable for classification. The _sentiment.csv_ data has also 'Neutral' label, which will be remove during binary classification.\n",
    "        - In each of the data set, data with each label share the same trends. This means that the length of tweet can not be a feature to classify the labels.\n",
    "    2. Difference between datasets:\n",
    "        - One the the obvious differenc is the number of data samples. The samples are much more aboundant in _sentiment.csv_ data. \n",
    "        - Another differece is that the average length of _sentiment.csv_ data is about 5 words, whereas average 14 words per tweet in election data. In this way, text in election data is more complex."
   ]
  },
  {
   "cell_type": "markdown",
   "metadata": {},
   "source": [
    "## 4. Model preparation"
   ]
  },
  {
   "cell_type": "markdown",
   "metadata": {},
   "source": [
    "### 4.1 Binary Classification"
   ]
  },
  {
   "cell_type": "markdown",
   "metadata": {},
   "source": [
    "- __Data Vectorization__: both WF and TF-IDF are considered as features and vectorized."
   ]
  },
  {
   "cell_type": "code",
   "execution_count": 24,
   "metadata": {},
   "outputs": [],
   "source": [
    "# remove Neutral samples\n",
    "stmt_binary = stmt_cleaned[~(stmt_cleaned['sentiment'] == 'Neutral')]"
   ]
  },
  {
   "cell_type": "code",
   "execution_count": 25,
   "metadata": {},
   "outputs": [],
   "source": [
    "# convert sentiment labels into numbers\n",
    "dict_label = {'Positive':1, 'Negative':0}\n",
    "y_stmt = stmt_binary.loc[:, 'sentiment'].map(dict_label)\n",
    "y_elexn = c_elect_cleaned.loc[:, 'sentiment'].map(dict_label)"
   ]
  },
  {
   "cell_type": "code",
   "execution_count": 26,
   "metadata": {},
   "outputs": [],
   "source": [
    "# build the totoal corpus for\n",
    "stmt_corpus = []\n",
    "for twt in stmt_binary['text']:\n",
    "    twt_comb = ' '.join(twt)\n",
    "    stmt_corpus.append(twt_comb)\n",
    "    \n",
    "elexn_corpus = []\n",
    "for twt in c_elect_cleaned['text']:\n",
    "    twt_comb = ' '.join(twt)\n",
    "    elexn_corpus.append(twt_comb)\n",
    "    \n",
    "tot_corpus = stmt_corpus + elexn_corpus"
   ]
  },
  {
   "cell_type": "code",
   "execution_count": 27,
   "metadata": {},
   "outputs": [],
   "source": [
    "# word frequency\n",
    "wf_vectorizer = CountVectorizer(max_features=5000).fit(tot_corpus)\n",
    "X_wf = wf_vectorizer.transform(stmt_corpus)\n",
    "X_elexn_wf = wf_vectorizer.transform(elexn_corpus)"
   ]
  },
  {
   "cell_type": "code",
   "execution_count": 28,
   "metadata": {},
   "outputs": [],
   "source": [
    "# TF-IDF\n",
    "tf_vectorizer = TfidfVectorizer(use_idf=True, smooth_idf=True, norm=None, max_features=5000).fit(tot_corpus)\n",
    "X_tfidf = tf_vectorizer.transform(stmt_corpus)\n",
    "X_elexn_tfidf = tf_vectorizer.transform(elexn_corpus)"
   ]
  },
  {
   "cell_type": "markdown",
   "metadata": {},
   "source": [
    "- __Split the data:__\n",
    "    - Split the sentiment data into train and test data.\n",
    "    - The whole election data will be the test data."
   ]
  },
  {
   "cell_type": "code",
   "execution_count": 29,
   "metadata": {},
   "outputs": [],
   "source": [
    "# split sentiment data\n",
    "X_train_wf, X_test_wf, y_train_wf, y_test_wf = train_test_split(X_wf, y_stmt, train_size=0.7, \n",
    "                                                                shuffle=True, random_state=2)\n",
    "\n",
    "X_train_tf, X_test_tf, y_train_tf, y_test_tf = train_test_split(X_tfidf, y_stmt, train_size=0.7, \n",
    "                                                                shuffle=True, random_state=2)"
   ]
  },
  {
   "cell_type": "markdown",
   "metadata": {},
   "source": [
    "- __Consideration of normalizing the data:__\n",
    "    - Generally, if there are distance-based classifiers, it is necessary to standardize the data. \n",
    "    - However, the data transformed to TF-IDF has already been normalized in the function. Data transformed to Word Frequency is not normalized, but each feature represents to the frequency of words, which are comparable to each other. So I tested data normalized and not normalized, the running results reveals that WF data without normalization converges faster and with higher test scores, so WF data will not be normalized in this report."
   ]
  },
  {
   "cell_type": "markdown",
   "metadata": {},
   "source": [
    "- __Model preparation for Binary Classification__\n",
    "    - The selection of __score__ or __performance metric__. In this classification, both labels are equal important, thus only consider Recall or Precision is not suitable. Although confusion matrix is comprehensive, but it is not intuitive to select models by visualization. Thus, the _roc_auc_score_ is selected for it represents the area under the ROC curve. It is both comprehensive and quantitative."
   ]
  },
  {
   "cell_type": "code",
   "execution_count": 31,
   "metadata": {},
   "outputs": [],
   "source": [
    "def bi_classifier(estimator, param_dict, X_train, y_train, X_test, y_test, X_election, y_election):\n",
    "    # hyperparameter tuning\n",
    "    classifier = GridSearchCV(estimator, param_grid=param_dict, \n",
    "                              scoring=make_scorer(roc_auc_score), cv=5)\n",
    "    classifier.fit(X_train, y_train)\n",
    "    \n",
    "    # performance of the best model on the test data\n",
    "    y_pred = classifier.predict(X_test) \n",
    "    test_score = roc_auc_score(y_test, y_pred)\n",
    "    \n",
    "    # performance of the best model on election data\n",
    "    y_pred_election = classifier.predict(X_election)\n",
    "    test_score_election = roc_auc_score(y_election, y_pred_election)\n",
    "    \n",
    "    print('The best hyperparameters are', classifier.best_params_)\n",
    "    print('The highest ROC area for semetic test data is %f.' % test_score)\n",
    "    print('The ROC area for election data is %f.' % test_score_election)\n",
    "      \n",
    "    return test_score, test_score_election, y_pred_election"
   ]
  },
  {
   "cell_type": "code",
   "execution_count": 46,
   "metadata": {},
   "outputs": [],
   "source": [
    "# classifiers and parameter grids for word frequency features\n",
    "LR_WF = [LogisticRegression(penalty='l2', solver='saga', n_jobs=-1),\n",
    "{'C': [0.1, 0.175, 0.2, 0.225, 0.25, 0.3]}]\n",
    "\n",
    "KNN_WF = [KNeighborsClassifier(n_jobs=-1), {'n_neighbors': [4,5,6,7]}]\n",
    "\n",
    "NB_WF = [MultinomialNB(),\n",
    "{'alpha': [2, 5, 10, 20, 30, 50]}]\n",
    "\n",
    "SVM_WF = [SGDClassifier(n_jobs=-1, random_state=2),\n",
    "{'penalty': ['l1', 'l2']}]\n",
    "\n",
    "DT_WF = [DecisionTreeClassifier(),\n",
    "{'criterion': ['gini', 'entropy'], 'max_depth': [50, 100, 200, 500]}]\n",
    "\n",
    "RF_WF = [RandomForestClassifier(n_jobs=-1),\n",
    "{'n_estimators': [50, 100], 'criterion': ['gini', 'entropy'], 'max_depth': [50, 100, 150, 200, 250]}]\n",
    "\n",
    "XGB_WF = [xgb.XGBClassifier(objective='binary:logistic', n_jobs=-1, max_depth=200),\n",
    "{'n_estimators': [100, 150, 200]}]"
   ]
  },
  {
   "cell_type": "code",
   "execution_count": 70,
   "metadata": {},
   "outputs": [],
   "source": [
    "# classifiers and parameter grids for TF-IDF\n",
    "LR_TF = [LogisticRegression(penalty='l2', solver='saga', n_jobs=-1),\n",
    "{'C': [0.0005, 0.001, 0.005, 0.01, 0.05]}]\n",
    "\n",
    "KNN_TF = [KNeighborsClassifier(n_jobs=-1), {'n_neighbors': [3,4,5,6]}]\n",
    "\n",
    "NB_TF = [MultinomialNB(),\n",
    "{'alpha': [100, 105, 110, 115, 120, 125, 130, 135, 140]}]\n",
    "\n",
    "SVM_TF = [SGDClassifier(n_jobs=-1, random_state=2),\n",
    "{'penalty': ['l1', 'l2']}]\n",
    "\n",
    "DT_TF = [DecisionTreeClassifier(),\n",
    "{'criterion': ['gini', 'entropy'], 'max_depth': [200, 500, 800, 1000]}]\n",
    "\n",
    "RF_TF = [RandomForestClassifier(n_jobs=-1),\n",
    "{'n_estimators': [50, 100], 'criterion': ['gini', 'entropy'], 'max_depth': [200, 250, 350, 500]}]\n",
    "\n",
    "XGB_TF = [xgb.XGBClassifier(objective='binary:logistic', n_jobs=-1, max_depth=200),\n",
    "{'n_estimators': [10, 20, 30, 50, 80]}]"
   ]
  },
  {
   "cell_type": "markdown",
   "metadata": {},
   "source": [
    "### 4.2 Multi-classification"
   ]
  },
  {
   "cell_type": "markdown",
   "metadata": {},
   "source": [
    "- __Data cleaning__: select only the sample with Negative label."
   ]
  },
  {
   "cell_type": "code",
   "execution_count": 38,
   "metadata": {},
   "outputs": [
    {
     "data": {
      "image/png": "[encoded data removed]",
      "text/plain": [
       "<Figure size 1080x576 with 1 Axes>"
      ]
     },
     "metadata": {
      "needs_background": "light"
     },
     "output_type": "display_data"
    }
   ],
   "source": [
    "# extract the needed data\n",
    "c_elect_negative = c_elect_cleaned[c_elect_cleaned['sentiment'] == 'Negative']\n",
    "\n",
    "# visualize the distribution of negative reasons\n",
    "plt.subplots(figsize=(15,8))\n",
    "sns.countplot(y=c_elect_negative['negative_reason'], orient=\"v\", \n",
    "              order=c_elect_negative['negative_reason'].value_counts().index)\n",
    "plt.title('Distribution of negative labels')\n",
    "plt.show()"
   ]
  },
  {
   "cell_type": "markdown",
   "metadata": {},
   "source": [
    "- __Analysis__\n",
    "    - The labels are seriously imbalanced.\n",
    "    - Healthcare and Healthcare and Marijuana are similar, and can be merged together"
   ]
  },
  {
   "cell_type": "code",
   "execution_count": 39,
   "metadata": {},
   "outputs": [],
   "source": [
    "# merge labels\n",
    "c_elect_negative = c_elect_negative.replace('Healthcare and Marijuana', 'Healthcare')"
   ]
  },
  {
   "cell_type": "markdown",
   "metadata": {},
   "source": [
    "- Ecode the label"
   ]
  },
  {
   "cell_type": "code",
   "execution_count": 40,
   "metadata": {},
   "outputs": [],
   "source": [
    "encoder = LabelEncoder()\n",
    "y_label = encoder.fit_transform(c_elect_negative['negative_reason'])"
   ]
  },
  {
   "cell_type": "markdown",
   "metadata": {},
   "source": [
    "- Data vectorization"
   ]
  },
  {
   "cell_type": "code",
   "execution_count": 41,
   "metadata": {},
   "outputs": [],
   "source": [
    "# build courpus\n",
    "elexn_nega_corpus = []\n",
    "for twt in c_elect_negative['text']:\n",
    "    twt_comb = ' '.join(twt)\n",
    "    elexn_nega_corpus.append(twt_comb)\n",
    "    \n",
    "# word frequency\n",
    "wf_nega_vectorizer = CountVectorizer()\n",
    "X_nega_wf = wf_vectorizer.fit_transform(elexn_nega_corpus)\n",
    "# TF-IDF\n",
    "tf_nega_vectorizer = TfidfVectorizer(use_idf=True, smooth_idf=True, norm=None)\n",
    "X_nega_tfidf = tf_vectorizer.fit_transform(elexn_nega_corpus)"
   ]
  },
  {
   "cell_type": "markdown",
   "metadata": {},
   "source": [
    "- Split the data"
   ]
  },
  {
   "cell_type": "code",
   "execution_count": 42,
   "metadata": {},
   "outputs": [],
   "source": [
    "X_train_Nwf, X_test_Nwf, y_train_Nwf, y_test_Nwf = train_test_split(X_nega_wf, y_label, train_size=0.7, \n",
    "                                                                shuffle=True, random_state=2)\n",
    "\n",
    "X_train_Ntf, X_test_Ntf, y_train_Ntf, y_test_Ntf = train_test_split(X_nega_tfidf, y_label, train_size=0.7, \n",
    "                                                                shuffle=True, random_state=2)"
   ]
  },
  {
   "cell_type": "markdown",
   "metadata": {},
   "source": [
    "- Define multiclass classifier\n",
    "    - __Selection for performance metric:__ In this classification, the balanced accuracy score has been selected, which represents the average precision for each class. It is more comprehensive than normal accuracy."
   ]
  },
  {
   "cell_type": "code",
   "execution_count": 43,
   "metadata": {},
   "outputs": [],
   "source": [
    "def multi_classifier(estimator, param_dict, X_train, y_train, X_test, y_test):\n",
    "    # hyperparameter tuning\n",
    "    classifier = GridSearchCV(estimator, param_grid=param_dict, \n",
    "                              scoring=make_scorer(balanced_accuracy_score), cv=5)\n",
    "    classifier.fit(X_train, y_train)\n",
    "    \n",
    "    # performance of the best model on the test data\n",
    "    y_pred = classifier.predict(X_test) \n",
    "    test_score = balanced_accuracy_score(y_test, y_pred)\n",
    "    \n",
    "       \n",
    "    print('The best hyperparameters are', classifier.best_params_)\n",
    "    print('The highest balanced accuracy for the test data is %f.' % test_score)\n",
    "          \n",
    "    return test_score, y_pred"
   ]
  },
  {
   "cell_type": "code",
   "execution_count": 120,
   "metadata": {},
   "outputs": [],
   "source": [
    "# classifiers and parameter grids\n",
    "NB_nega = [MultinomialNB(),\n",
    "{'alpha': [3, 3.5, 4, 4.5, 5, 5.5]}]\n",
    "\n",
    "LR_nega = [LogisticRegression(penalty='l2', solver='saga', n_jobs=-1, max_iter=1000),\n",
    "          {'C':[45, 50, 55, 60, 65, 70]}]\n",
    "\n",
    "SVM_nega = [SGDClassifier(n_jobs=-1, random_state=2),\n",
    "{'penalty': ['l1', 'l2']}]"
   ]
  },
  {
   "cell_type": "markdown",
   "metadata": {},
   "source": [
    "## 5. Model Implementation"
   ]
  },
  {
   "cell_type": "markdown",
   "metadata": {},
   "source": [
    "### 5.1 Binary Classification"
   ]
  },
  {
   "cell_type": "markdown",
   "metadata": {},
   "source": [
    "#### 5.1.1 With Word Frequency as Features"
   ]
  },
  {
   "cell_type": "markdown",
   "metadata": {},
   "source": [
    "- Logistic Regression"
   ]
  },
  {
   "cell_type": "code",
   "execution_count": 47,
   "metadata": {},
   "outputs": [
    {
     "name": "stdout",
     "output_type": "stream",
     "text": [
      "The best hyperparameters are {'C': 0.225}\n",
      "The highest ROC area for semetic test data is 0.759010.\n",
      "The ROC area for election data is 0.614784.\n"
     ]
    }
   ],
   "source": [
    "lr_ts_wf, lr_tsEle_wf, lr_yPredEle_wf = bi_classifier(LR_WF[0], LR_WF[1], \n",
    "                                                      X_train_wf, y_train_wf, \n",
    "                                                      X_test_wf, y_test_wf,\n",
    "                                                     X_elexn_wf, y_elexn)"
   ]
  },
  {
   "cell_type": "markdown",
   "metadata": {},
   "source": [
    "- KNN"
   ]
  },
  {
   "cell_type": "code",
   "execution_count": 48,
   "metadata": {},
   "outputs": [
    {
     "name": "stdout",
     "output_type": "stream",
     "text": [
      "The best hyperparameters are {'n_neighbors': 7}\n",
      "The highest ROC area for semetic test data is 0.676683.\n",
      "The ROC area for election data is 0.536739.\n"
     ]
    }
   ],
   "source": [
    "knn_ts_wf, knn_tsEle_wf, knn_yPredEle_wf = bi_classifier(KNN_WF[0], KNN_WF[1], \n",
    "                                                      X_train_wf, y_train_wf, \n",
    "                                                      X_test_wf, y_test_wf,\n",
    "                                                     X_elexn_wf, y_elexn)"
   ]
  },
  {
   "cell_type": "markdown",
   "metadata": {},
   "source": [
    "- Naive Bayes"
   ]
  },
  {
   "cell_type": "code",
   "execution_count": 64,
   "metadata": {},
   "outputs": [
    {
     "name": "stdout",
     "output_type": "stream",
     "text": [
      "The best hyperparameters are {'alpha': 5}\n",
      "The highest ROC area for semetic test data is 0.744500.\n",
      "The ROC area for election data is 0.592780.\n"
     ]
    }
   ],
   "source": [
    "nb_ts_wf, nb_tsEle_wf, nb_yPredEle_wf = bi_classifier(NB_WF[0], NB_WF[1], \n",
    "                                                      X_train_wf, y_train_wf, \n",
    "                                                      X_test_wf, y_test_wf,\n",
    "                                                     X_elexn_wf, y_elexn)"
   ]
  },
  {
   "cell_type": "markdown",
   "metadata": {},
   "source": [
    "- SVM"
   ]
  },
  {
   "cell_type": "code",
   "execution_count": 50,
   "metadata": {},
   "outputs": [
    {
     "name": "stdout",
     "output_type": "stream",
     "text": [
      "The best hyperparameters are {'penalty': 'l2'}\n",
      "The highest ROC area for semetic test data is 0.760052.\n",
      "The ROC area for election data is 0.609934.\n"
     ]
    }
   ],
   "source": [
    "svm_ts_wf, svm_tsEle_wf, svm_yPredEle_wf = bi_classifier(SVM_WF[0], SVM_WF[1], \n",
    "                                                      X_train_wf, y_train_wf, \n",
    "                                                      X_test_wf, y_test_wf,\n",
    "                                                     X_elexn_wf, y_elexn)"
   ]
  },
  {
   "cell_type": "markdown",
   "metadata": {},
   "source": [
    "- Decision Tree"
   ]
  },
  {
   "cell_type": "code",
   "execution_count": 51,
   "metadata": {},
   "outputs": [
    {
     "name": "stdout",
     "output_type": "stream",
     "text": [
      "The best hyperparameters are {'criterion': 'entropy', 'max_depth': 500}\n",
      "The highest ROC area for semetic test data is 0.700913.\n",
      "The ROC area for election data is 0.552407.\n"
     ]
    }
   ],
   "source": [
    "dt_ts_wf, dt_tsEle_wf, dt_yPredEle_wf = bi_classifier(DT_WF[0], DT_WF[1], \n",
    "                                                      X_train_wf, y_train_wf, \n",
    "                                                      X_test_wf, y_test_wf,\n",
    "                                                     X_elexn_wf, y_elexn)"
   ]
  },
  {
   "cell_type": "markdown",
   "metadata": {},
   "source": [
    "- Random Forest"
   ]
  },
  {
   "cell_type": "code",
   "execution_count": 52,
   "metadata": {},
   "outputs": [
    {
     "name": "stdout",
     "output_type": "stream",
     "text": [
      "The best hyperparameters are {'criterion': 'entropy', 'max_depth': 250, 'n_estimators': 100}\n",
      "The highest ROC area for semetic test data is 0.744076.\n",
      "The ROC area for election data is 0.572481.\n"
     ]
    }
   ],
   "source": [
    "rf_ts_wf, rf_tsEle_wf, rf_yPredEle_wf = bi_classifier(RF_WF[0], RF_WF[1], \n",
    "                                                      X_train_wf, y_train_wf, \n",
    "                                                      X_test_wf, y_test_wf,\n",
    "                                                     X_elexn_wf, y_elexn)"
   ]
  },
  {
   "cell_type": "markdown",
   "metadata": {},
   "source": [
    "- XGBoost"
   ]
  },
  {
   "cell_type": "code",
   "execution_count": 53,
   "metadata": {},
   "outputs": [
    {
     "name": "stdout",
     "output_type": "stream",
     "text": [
      "The best hyperparameters are {'n_estimators': 100}\n",
      "The highest ROC area for semetic test data is 0.754211.\n",
      "The ROC area for election data is 0.615278.\n"
     ]
    }
   ],
   "source": [
    "xgb_ts_wf, xgb_tsEle_wf, xgb_yPredEle_wf = bi_classifier(XGB_WF[0], XGB_WF[1], \n",
    "                                                      X_train_wf, y_train_wf, \n",
    "                                                      X_test_wf, y_test_wf,\n",
    "                                                     X_elexn_wf, y_elexn)"
   ]
  },
  {
   "cell_type": "markdown",
   "metadata": {},
   "source": [
    "#### 5.1.2 With TF-IDF as Features"
   ]
  },
  {
   "cell_type": "markdown",
   "metadata": {},
   "source": [
    "- Logistic regression"
   ]
  },
  {
   "cell_type": "code",
   "execution_count": 62,
   "metadata": {},
   "outputs": [
    {
     "name": "stdout",
     "output_type": "stream",
     "text": [
      "The best hyperparameters are {'C': 0.005}\n",
      "The highest ROC area for semetic test data is 0.758909.\n",
      "The ROC area for election data is 0.621973.\n"
     ]
    }
   ],
   "source": [
    "lr_ts_tf, lr_tsEle_tf, lr_yPredEle_tf = bi_classifier(LR_TF[0], LR_TF[1], \n",
    "                                                       X_train_tf, y_train_tf, \n",
    "                                                      X_test_tf, y_test_tf,\n",
    "                                                     X_elexn_tfidf, y_elexn)"
   ]
  },
  {
   "cell_type": "markdown",
   "metadata": {},
   "source": [
    "- KNN"
   ]
  },
  {
   "cell_type": "code",
   "execution_count": 55,
   "metadata": {
    "scrolled": true
   },
   "outputs": [
    {
     "name": "stdout",
     "output_type": "stream",
     "text": [
      "The best hyperparameters are {'n_neighbors': 5}\n",
      "The highest ROC area for semetic test data is 0.679651.\n",
      "The ROC area for election data is 0.571867.\n"
     ]
    }
   ],
   "source": [
    "knn_ts_tf, knn_tsEle_tf, knn_yPredEle_tf = bi_classifier(KNN_TF[0], KNN_TF[1], \n",
    "                                                      X_train_tf, y_train_tf, \n",
    "                                                      X_test_tf, y_test_tf,\n",
    "                                                     X_elexn_tfidf, y_elexn)"
   ]
  },
  {
   "cell_type": "markdown",
   "metadata": {},
   "source": [
    "- Naive Bayes"
   ]
  },
  {
   "cell_type": "code",
   "execution_count": 69,
   "metadata": {},
   "outputs": [
    {
     "name": "stdout",
     "output_type": "stream",
     "text": [
      "The best hyperparameters are {'alpha': 120}\n",
      "The highest ROC area for semetic test data is 0.744598.\n",
      "The ROC area for election data is 0.591142.\n"
     ]
    }
   ],
   "source": [
    "nb_ts_tf, nb_tsEle_tf, nb_yPredEle_tf = bi_classifier(NB_TF[0], NB_TF[1], \n",
    "                                                      X_train_tf, y_train_tf, \n",
    "                                                      X_test_tf, y_test_tf,\n",
    "                                                     X_elexn_tfidf, y_elexn)"
   ]
  },
  {
   "cell_type": "markdown",
   "metadata": {},
   "source": [
    "- SVM"
   ]
  },
  {
   "cell_type": "code",
   "execution_count": 57,
   "metadata": {},
   "outputs": [
    {
     "name": "stdout",
     "output_type": "stream",
     "text": [
      "The best hyperparameters are {'penalty': 'l1'}\n",
      "The highest ROC area for semetic test data is 0.756554.\n",
      "The ROC area for election data is 0.613133.\n"
     ]
    }
   ],
   "source": [
    "svm_ts_tf, svm_tsEle_tf, svm_yPredEle_tf = bi_classifier(SVM_TF[0], SVM_TF[1], \n",
    "                                                      X_train_tf, y_train_tf, \n",
    "                                                      X_test_tf, y_test_tf,\n",
    "                                                     X_elexn_tfidf, y_elexn)"
   ]
  },
  {
   "cell_type": "markdown",
   "metadata": {},
   "source": [
    "- Decision Tree"
   ]
  },
  {
   "cell_type": "code",
   "execution_count": 58,
   "metadata": {},
   "outputs": [
    {
     "name": "stdout",
     "output_type": "stream",
     "text": [
      "The best hyperparameters are {'criterion': 'entropy', 'max_depth': 1000}\n",
      "The highest ROC area for semetic test data is 0.699693.\n",
      "The ROC area for election data is 0.553640.\n"
     ]
    }
   ],
   "source": [
    "dt_ts_tf, dt_tsEle_tf, dt_yPredEle_tf = bi_classifier(DT_TF[0], DT_TF[1], \n",
    "                                                      X_train_tf, y_train_tf, \n",
    "                                                      X_test_tf, y_test_tf,\n",
    "                                                     X_elexn_tfidf, y_elexn)"
   ]
  },
  {
   "cell_type": "markdown",
   "metadata": {},
   "source": [
    "- Random Forest"
   ]
  },
  {
   "cell_type": "code",
   "execution_count": 59,
   "metadata": {},
   "outputs": [
    {
     "name": "stdout",
     "output_type": "stream",
     "text": [
      "The best hyperparameters are {'criterion': 'entropy', 'max_depth': 200, 'n_estimators': 100}\n",
      "The highest ROC area for semetic test data is 0.743914.\n",
      "The ROC area for election data is 0.569889.\n"
     ]
    }
   ],
   "source": [
    "rf_ts_tf, rf_tsEle_tf, rf_yPredEle_tf = bi_classifier(RF_TF[0], RF_TF[1], \n",
    "                                                      X_train_tf, y_train_tf, \n",
    "                                                      X_test_tf, y_test_tf,\n",
    "                                                     X_elexn_tfidf, y_elexn)"
   ]
  },
  {
   "cell_type": "markdown",
   "metadata": {},
   "source": [
    "- XGBoost"
   ]
  },
  {
   "cell_type": "code",
   "execution_count": 71,
   "metadata": {},
   "outputs": [
    {
     "name": "stdout",
     "output_type": "stream",
     "text": [
      "The best hyperparameters are {'n_estimators': 50}\n",
      "The highest ROC area for semetic test data is 0.755220.\n",
      "The ROC area for election data is 0.616733.\n"
     ]
    }
   ],
   "source": [
    "xgb_ts_tf, xgb_tsEle_tf, xgb_yPredEle_tf = bi_classifier(XGB_TF[0], XGB_TF[1], \n",
    "                                                      X_train_tf, y_train_tf, \n",
    "                                                      X_test_tf, y_test_tf,\n",
    "                                                     X_elexn_tfidf, y_elexn)"
   ]
  },
  {
   "cell_type": "markdown",
   "metadata": {},
   "source": [
    "#### 5.1.3 Multiclass Classification"
   ]
  },
  {
   "cell_type": "markdown",
   "metadata": {},
   "source": [
    "- __Model selection:__ According to the assignment requirement, three models are selected to implement this classification: _Naive Bayes, Logistic Regression and SVM._\n",
    "- Both WF and TF-IDF features are considered."
   ]
  },
  {
   "cell_type": "markdown",
   "metadata": {},
   "source": [
    "- __With WF features__"
   ]
  },
  {
   "cell_type": "code",
   "execution_count": 128,
   "metadata": {},
   "outputs": [
    {
     "name": "stdout",
     "output_type": "stream",
     "text": [
      "The best hyperparameters are {'alpha': 3}\n",
      "The highest balanced accuracy for the test data is 0.191605.\n"
     ]
    }
   ],
   "source": [
    "# Naive Bayes\n",
    "nb_ts_Nwf, nb_yPredEle_Nwf = multi_classifier(NB_nega[0], NB_nega[1], \n",
    "                                                      X_train_Nwf, y_train_Nwf, \n",
    "                                                      X_test_Nwf, y_test_Nwf)"
   ]
  },
  {
   "cell_type": "code",
   "execution_count": 122,
   "metadata": {},
   "outputs": [
    {
     "name": "stderr",
     "output_type": "stream",
     "text": [
      "E:\\Anaconda\\lib\\site-packages\\sklearn\\linear_model\\logistic.py:469: FutureWarning: Default multi_class will be changed to 'auto' in 0.22. Specify the multi_class option to silence this warning.\n",
      "  \"this warning.\", FutureWarning)\n"
     ]
    },
    {
     "name": "stdout",
     "output_type": "stream",
     "text": [
      "The best hyperparameters are {'C': 45}\n",
      "The highest balanced accuracy for the test data is 0.282940.\n"
     ]
    },
    {
     "name": "stderr",
     "output_type": "stream",
     "text": [
      "E:\\Anaconda\\lib\\site-packages\\sklearn\\linear_model\\sag.py:337: ConvergenceWarning: The max_iter was reached which means the coef_ did not converge\n",
      "  \"the coef_ did not converge\", ConvergenceWarning)\n"
     ]
    }
   ],
   "source": [
    "# Logistic Regression\n",
    "lr_ts_Nwf, lr_yPredEle_Nwf = multi_classifier(LR_nega[0], LR_nega[1], \n",
    "                                                      X_train_Nwf, y_train_Nwf, \n",
    "                                                      X_test_Nwf, y_test_Nwf)"
   ]
  },
  {
   "cell_type": "code",
   "execution_count": 123,
   "metadata": {
    "scrolled": true
   },
   "outputs": [
    {
     "name": "stdout",
     "output_type": "stream",
     "text": [
      "The best hyperparameters are {'penalty': 'l2'}\n",
      "The highest balanced accuracy for the test data is 0.335847.\n"
     ]
    },
    {
     "name": "stderr",
     "output_type": "stream",
     "text": [
      "E:\\Anaconda\\lib\\site-packages\\sklearn\\model_selection\\_search.py:813: DeprecationWarning: The default of the `iid` parameter will change from True to False in version 0.22 and will be removed in 0.24. This will change numeric results when test-set sizes are unequal.\n",
      "  DeprecationWarning)\n"
     ]
    }
   ],
   "source": [
    "# SVM\n",
    "svm_ts_Nwf, svm_yPredEle_Nwf = multi_classifier(SVM_nega[0], SVM_nega[1], \n",
    "                                                      X_train_Nwf, y_train_Nwf, \n",
    "                                                      X_test_Nwf, y_test_Nwf)"
   ]
  },
  {
   "cell_type": "markdown",
   "metadata": {},
   "source": [
    "- __With TF-IDF features__"
   ]
  },
  {
   "cell_type": "code",
   "execution_count": 136,
   "metadata": {},
   "outputs": [
    {
     "name": "stdout",
     "output_type": "stream",
     "text": [
      "The best hyperparameters are {'alpha': 3}\n",
      "The highest balanced accuracy for the test data is 0.356062.\n"
     ]
    }
   ],
   "source": [
    "# Naive Bayes\n",
    "nb_ts_Ntf, nb_yPredEle_Ntf = multi_classifier(NB_nega[0], NB_nega[1], \n",
    "                                                      X_train_Ntf, y_train_Ntf, \n",
    "                                                      X_test_Ntf, y_test_Ntf)"
   ]
  },
  {
   "cell_type": "code",
   "execution_count": 137,
   "metadata": {},
   "outputs": [
    {
     "name": "stderr",
     "output_type": "stream",
     "text": [
      "E:\\Anaconda\\lib\\site-packages\\sklearn\\linear_model\\logistic.py:469: FutureWarning: Default multi_class will be changed to 'auto' in 0.22. Specify the multi_class option to silence this warning.\n",
      "  \"this warning.\", FutureWarning)\n"
     ]
    },
    {
     "name": "stdout",
     "output_type": "stream",
     "text": [
      "The best hyperparameters are {'C': 45}\n",
      "The highest balanced accuracy for the test data is 0.273787.\n"
     ]
    },
    {
     "name": "stderr",
     "output_type": "stream",
     "text": [
      "E:\\Anaconda\\lib\\site-packages\\sklearn\\linear_model\\sag.py:337: ConvergenceWarning: The max_iter was reached which means the coef_ did not converge\n",
      "  \"the coef_ did not converge\", ConvergenceWarning)\n"
     ]
    }
   ],
   "source": [
    "# Logistic Regression\n",
    "lr_ts_Ntf, lr_yPredEle_Ntf = multi_classifier(LR_nega[0], LR_nega[1], \n",
    "                                                      X_train_Ntf, y_train_Ntf, \n",
    "                                                      X_test_Ntf, y_test_Ntf)"
   ]
  },
  {
   "cell_type": "code",
   "execution_count": 138,
   "metadata": {},
   "outputs": [
    {
     "name": "stdout",
     "output_type": "stream",
     "text": [
      "The best hyperparameters are {'penalty': 'l2'}\n",
      "The highest balanced accuracy for the test data is 0.333447.\n"
     ]
    },
    {
     "name": "stderr",
     "output_type": "stream",
     "text": [
      "E:\\Anaconda\\lib\\site-packages\\sklearn\\model_selection\\_search.py:813: DeprecationWarning: The default of the `iid` parameter will change from True to False in version 0.22 and will be removed in 0.24. This will change numeric results when test-set sizes are unequal.\n",
      "  DeprecationWarning)\n"
     ]
    }
   ],
   "source": [
    "# SVM\n",
    "svm_ts_Ntf, svm_yPredEle_Ntf = multi_classifier(SVM_nega[0], SVM_nega[1], \n",
    "                                                      X_train_Ntf, y_train_Ntf, \n",
    "                                                      X_test_Ntf, y_test_Ntf)"
   ]
  },
  {
   "cell_type": "markdown",
   "metadata": {},
   "source": [
    "## 6 Results"
   ]
  },
  {
   "cell_type": "markdown",
   "metadata": {},
   "source": [
    "### 6.1 Binary Classification"
   ]
  },
  {
   "cell_type": "code",
   "execution_count": 81,
   "metadata": {},
   "outputs": [],
   "source": [
    "# organize the results\n",
    "results_lr = pd.DataFrame({'Classifier': 'Logistic Regression', \n",
    "                           'Score':[lr_ts_wf, lr_tsEle_wf, lr_ts_tf, lr_tsEle_tf],\n",
    "                          'Labels':['Test score on test data (WF)', 'Test score on electioin data (WF)',\n",
    "                                  'Test score on test data (TF-IDF)', 'Test score on electioin data (IF-IDF)']})\n",
    "results_knn = pd.DataFrame({'Classifier': 'KNN', \n",
    "                           'Score':[knn_ts_wf, knn_tsEle_wf, knn_ts_tf, knn_tsEle_tf],\n",
    "                          'Labels':['Test score on test data (WF)', 'Test score on electioin data (WF)',\n",
    "                                  'Test score on test data (TF-IDF)', 'Test score on electioin data (IF-IDF)']})\n",
    "results_nb = pd.DataFrame({'Classifier': 'Naive Bayes', \n",
    "                           'Score':[nb_ts_wf, nb_tsEle_wf, nb_ts_tf, nb_tsEle_tf],\n",
    "                          'Labels':['Test score on test data (WF)', 'Test score on electioin data (WF)',\n",
    "                                  'Test score on test data (TF-IDF)', 'Test score on electioin data (IF-IDF)']})\n",
    "results_svm = pd.DataFrame({'Classifier': 'SVM', \n",
    "                           'Score':[svm_ts_wf, svm_tsEle_wf, svm_ts_tf, svm_tsEle_tf],\n",
    "                          'Labels':['Test score on test data (WF)', 'Test score on electioin data (WF)',\n",
    "                                  'Test score on test data (TF-IDF)', 'Test score on electioin data (IF-IDF)']})\n",
    "results_dt = pd.DataFrame({'Classifier': 'Decision Tree', \n",
    "                           'Score':[dt_ts_wf, dt_tsEle_wf, dt_ts_tf, dt_tsEle_tf],\n",
    "                          'Labels':['Test score on test data (WF)', 'Test score on electioin data (WF)',\n",
    "                                  'Test score on test data (TF-IDF)', 'Test score on electioin data (IF-IDF)']})\n",
    "results_rf = pd.DataFrame({'Classifier': 'Random Forest', \n",
    "                           'Score':[rf_ts_wf, rf_tsEle_wf, rf_ts_tf, rf_tsEle_tf],\n",
    "                          'Labels':['Test score on test data (WF)', 'Test score on electioin data (WF)',\n",
    "                                  'Test score on test data (TF-IDF)', 'Test score on electioin data (IF-IDF)']})\n",
    "results_xgb = pd.DataFrame({'Classifier': 'XGBoost', \n",
    "                           'Score':[xgb_ts_wf, xgb_tsEle_wf, xgb_ts_tf, xgb_tsEle_tf],\n",
    "                          'Labels':['Test score on test data (WF)', 'Test score on electioin data (WF)',\n",
    "                                  'Test score on test data (TF-IDF)', 'Test score on electioin data (IF-IDF)']})\n",
    "results_binary = pd.concat([results_lr, results_knn, results_nb, results_svm, results_dt, results_rf, results_xgb])\n",
    "results_binary.index = range(results_binary.shape[0])"
   ]
  },
  {
   "cell_type": "code",
   "execution_count": 85,
   "metadata": {},
   "outputs": [
    {
     "data": {
      "image/png": "[encoded data removed]",
      "text/plain": [
       "<Figure size 1080x576 with 1 Axes>"
      ]
     },
     "metadata": {
      "needs_background": "light"
     },
     "output_type": "display_data"
    }
   ],
   "source": [
    "plt.subplots(figsize=(15,8))\n",
    "sns.barplot(x=results_binary['Classifier'], y=results_binary['Score'], hue=results_binary['Labels'])\n",
    "plt.title('Scores for Binary Classifiers')\n",
    "plt.show()"
   ]
  },
  {
   "cell_type": "markdown",
   "metadata": {},
   "source": [
    "- __Analysis:__\n",
    "    - The two features (WF and TF-IDF) give the similar scores.\n",
    "    \n",
    "    - The scores of test set data are constantly higher than the election data with about 0.1. This means that the training data may not represent the election data well. \n",
    "    \n",
    "    - The test scores of test set data is about 0.75, which is acceptable. But the scores of election data are only about 0.6, 10% higher than random guess (0.5), which is slightly lower. For election data, it is overfitted.\n",
    "    \n",
    "    - __The reason of overfitting__: There are tens of thousand words in the training data, most of which are not relevant to the _election data_, thus the words in _election data_ may not be well considered by the model. So for _election data_, the major error may come from the variance of the dataset.\n",
    "    \n",
    "- __The best model__:\n",
    "\n",
    "    - From the figure above, the model with both high scores for both dataset is the __logistc regression__ model. Therefore, the following analysis will use the training results from logistc regression with the TF-IDF feature, which is slightly higher than its counterpart."
   ]
  },
  {
   "cell_type": "code",
   "execution_count": 88,
   "metadata": {},
   "outputs": [],
   "source": [
    "# sentiment prediction to the election outcome\n",
    "c_elect_cleaned['parties'] = type_list\n",
    "c_elect_cleaned['sentiment_pred'] = lr_yPredEle_tf\n",
    "label_dict={0:'Negative_pred', 1: 'Positive_pred'}\n",
    "c_elect_cleaned['sentiment_pred'] = c_elect_cleaned['sentiment_pred'].map(label_dictict)"
   ]
  },
  {
   "cell_type": "code",
   "execution_count": 92,
   "metadata": {},
   "outputs": [],
   "source": [
    "c_elect_analysis = c_elect_cleaned[~(c_elect_cleaned['parties']== 'None')]"
   ]
  },
  {
   "cell_type": "code",
   "execution_count": 107,
   "metadata": {},
   "outputs": [
    {
     "data": {
      "image/png": "[encoded data removed]",
      "text/plain": [
       "<Figure size 1080x576 with 2 Axes>"
      ]
     },
     "metadata": {
      "needs_background": "light"
     },
     "output_type": "display_data"
    }
   ],
   "source": [
    "fig, ax = plt.subplots(1, 2, figsize=(15,8))\n",
    "sns.countplot(x=c_elect_analysis['sentiment'], hue=c_elect_analysis['parties'], ax=ax[0])\n",
    "sns.countplot(x=c_elect_analysis['sentiment_pred'], hue=c_elect_analysis['parties'], ax=ax[1])\n",
    "ax[0].set_title('Real Sentiment for each party')\n",
    "ax[1].set_title('Predicted Sentiment for each party')\n",
    "\n",
    "plt.show()"
   ]
  },
  {
   "cell_type": "markdown",
   "metadata": {},
   "source": [
    "- __Analysis__:\n",
    "    1. For both figures, Liberal and Conservative are the dominant parts. \n",
    "    2. The real label reveals that Negative tweets are higher than Positive for the two parties. For NDP and other parties, Positive views are higher, but the overral populations are far less than the previous two.\n",
    "    3. The prediction correctly predict the trend of other parties, NDP and Liberal, but inccorrectly predicted the Conservative. The Conservative has much more Negative labels, but the prediction results show the Negative and Positive are comparable. This may significantly influence the prediction of election results. Because for the real labels, Conservative has much more Negative tweets, and thus may lose the election, and Liberal is likely to win. But for the predicted labels, Conservative wins seems more reasonable.\n",
    "    4. Given the performance score of the best model is still low (about 0.6), and it still estimates most of the trends, but lose on the key trends, so I believe NLP based analytics is useful to help parties know the population opinions. But the model should be well trained.\n",
    "    5. The reason the model performs not well is as follow:\n",
    "    - The training data is not representative, the detailed discussion is under the above figure.\n",
    "    - The length of the training data is shorter, which means the training data is much simpler compared to election data.\n",
    "    - Some of the models are too compuational, to I only selected one or two hyperparameters for tuning.\n",
    "    If only select one way to improve the performance of the model, I would suggest to train with more selective data, like tweets related to elections from the last year, or other countries."
   ]
  },
  {
   "cell_type": "markdown",
   "metadata": {},
   "source": [
    "### 6.2 Multiclass Classification"
   ]
  },
  {
   "cell_type": "markdown",
   "metadata": {},
   "source": [
    "- Performance of the model"
   ]
  },
  {
   "cell_type": "code",
   "execution_count": 139,
   "metadata": {},
   "outputs": [],
   "source": [
    "multi_results = pd.DataFrame({\n",
    "    'Classifiers': ['LogisticRegression with wf', 'Naive Bayes with wf', 'SVM with wf', 'LogisticRegression with tf-idf', 'Naive Bayes with tf-idf', 'SVM with tf-idf'],\n",
    "    'Scores': [lr_ts_Nwf, nb_ts_Nwf, svm_ts_Nwf, lr_ts_Ntf, nb_ts_Ntf, svm_ts_Ntf]\n",
    "})"
   ]
  },
  {
   "cell_type": "code",
   "execution_count": 144,
   "metadata": {},
   "outputs": [
    {
     "data": {
      "image/png": "[encoded data removed]",
      "text/plain": [
       "<Figure size 1080x576 with 1 Axes>"
      ]
     },
     "metadata": {
      "needs_background": "light"
     },
     "output_type": "display_data"
    }
   ],
   "source": [
    "plt.subplots(figsize=(15,8))\n",
    "sns.barplot(multi_results['Classifiers'], y=multi_results['Scores'])\n",
    "plt.title('Scores for MultiClass Classifiers')\n",
    "plt.show()"
   ]
  },
  {
   "cell_type": "markdown",
   "metadata": {},
   "source": [
    "- Thus, Naive Bayes with TF-IDF features is the best model."
   ]
  },
  {
   "cell_type": "code",
   "execution_count": 152,
   "metadata": {},
   "outputs": [
    {
     "data": {
      "image/png": "[encoded data removed]",
      "text/plain": [
       "<Figure size 1080x864 with 2 Axes>"
      ]
     },
     "metadata": {
      "needs_background": "light"
     },
     "output_type": "display_data"
    }
   ],
   "source": [
    "fig, ax = plt.subplots(2, 1, figsize=(15,12))\n",
    "sns.countplot(y=y_test_Ntf, orient=\"v\", ax=ax[0])\n",
    "sns.countplot(y=nb_yPredEle_Ntf, orient=\"v\", ax=ax[1])\n",
    "ax[0].set_title('Real label')\n",
    "ax[1].set_title('Predicted label')\n",
    "\n",
    "plt.show()\n"
   ]
  },
  {
   "cell_type": "markdown",
   "metadata": {},
   "source": [
    "- __Analysis__:\n",
    "    - The predicted labels and real label distributions are the similar.\n",
    "    - type 0 and type 8 are overfitted.\n",
    "    - I guess the low performance (0.35) is due to the imbalanced labels.\n",
    "    - One adivce is to use the balanced label as training data."
   ]
  },
  {
   "cell_type": "code",
   "execution_count": null,
   "metadata": {},
   "outputs": [],
   "source": []
  }
 ],
 "metadata": {
  "kernelspec": {
   "display_name": "Python 3",
   "language": "python",
   "name": "python3"
  },
  "language_info": {
   "codemirror_mode": {
    "name": "ipython",
    "version": 3
   },
   "file_extension": ".py",
   "mimetype": "text/x-python",
   "name": "python",
   "nbconvert_exporter": "python",
   "pygments_lexer": "ipython3",
   "version": "3.7.3"
  }
 },
 "nbformat": 4,
 "nbformat_minor": 2
}
